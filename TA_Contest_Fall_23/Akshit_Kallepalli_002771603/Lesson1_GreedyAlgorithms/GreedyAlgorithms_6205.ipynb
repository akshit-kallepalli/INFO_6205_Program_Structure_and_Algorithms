{
 "cells": [
  {
   "cell_type": "code",
   "execution_count": null,
   "id": "cdd8a6f6-dd21-403a-9636-6b2ed26e514e",
   "metadata": {},
   "outputs": [],
   "source": [
    "Prim's Algorithm"
   ]
  },
  {
   "cell_type": "code",
   "execution_count": 8,
   "id": "3ef2d10f-2073-4537-8b05-b3b28e552bac",
   "metadata": {},
   "outputs": [],
   "source": [
    "def prim(graph):\n",
    "    \"\"\"\n",
    "    Prim's algorithm for finding the minimum spanning tree of a graph.\n",
    "    Args:\n",
    "    graph (dict): A dictionary representing the graph where keys are vertices and values are dictionaries\n",
    "                  containing neighboring vertices and their corresponding edge weights.\n",
    "                  Example: {'A': {'B': 3, 'C': 1}, 'B': {'A': 3, 'C': 4}, 'C': {'A': 1, 'B': 4}}\n",
    "    Returns:\n",
    "    dict: A dictionary representing the minimum spanning tree.\n",
    "    \"\"\"\n",
    "\n",
    "    # Initialize an empty dictionary to store the minimum spanning tree\n",
    "    mst = {}\n",
    "\n",
    "    # Choose the starting vertex (in this example, we'll choose the first vertex)\n",
    "    start_vertex = list(graph.keys())[0]\n",
    "\n",
    "    # Create a priority queue to keep track of edges and their weights\n",
    "    pq = [(0, start_vertex, None)]\n",
    "\n",
    "    # Create a set to keep track of visited vertices\n",
    "    visited = set()\n",
    "\n",
    "    while pq:\n",
    "        weight, current_vertex, previous_vertex = pq.pop(0)\n",
    "\n",
    "        # Skip if the vertex has already been visited\n",
    "        if current_vertex in visited:\n",
    "            continue\n",
    "\n",
    "        # Add the current vertex to the visited set\n",
    "        visited.add(current_vertex)\n",
    "\n",
    "        # Add the edge to the minimum spanning tree\n",
    "        if previous_vertex is not None:\n",
    "            mst.setdefault(previous_vertex, []).append((current_vertex, weight))\n",
    "            mst.setdefault(current_vertex, []).append((previous_vertex, weight))\n",
    "\n",
    "        # Add neighboring edges to the priority queue\n",
    "        for neighbor, edge_weight in graph[current_vertex].items():\n",
    "            if neighbor not in visited:\n",
    "                pq.append((edge_weight, neighbor, current_vertex))\n",
    "\n",
    "        # Sort the priority queue based on edge weights\n",
    "        pq.sort()\n",
    "\n",
    "    return mst\n",
    "\n",
    "\n"
   ]
  },
  {
   "cell_type": "code",
   "execution_count": 9,
   "id": "192d0027-77f3-4c79-b819-9a5fcdfbd504",
   "metadata": {},
   "outputs": [
    {
     "name": "stdout",
     "output_type": "stream",
     "text": [
      "Minimum Spanning Tree:\n",
      "{'A': [('C', 1), ('B', 3)], 'C': [('A', 1)], 'B': [('A', 3)]}\n"
     ]
    }
   ],
   "source": [
    "# Example graph representation\n",
    "graph = {\n",
    "    'A': {'B': 3, 'C': 1},\n",
    "    'B': {'A': 3, 'C': 4},\n",
    "    'C': {'A': 1, 'B': 4}\n",
    "}\n",
    "\n",
    "minimum_spanning_tree = prim(graph)\n",
    "print(\"Minimum Spanning Tree:\")\n",
    "print(minimum_spanning_tree)"
   ]
  },
  {
   "cell_type": "code",
   "execution_count": null,
   "id": "6d7479fa-116f-455e-806d-cf3f6c1b8a6f",
   "metadata": {},
   "outputs": [],
   "source": []
  },
  {
   "cell_type": "code",
   "execution_count": null,
   "id": "8b710442-2186-4777-bb9e-76c0c00f9f04",
   "metadata": {},
   "outputs": [],
   "source": [
    "Kruskal's Algorithm"
   ]
  },
  {
   "cell_type": "code",
   "execution_count": 10,
   "id": "c00351a5-3536-4d95-9152-0d958d102eec",
   "metadata": {},
   "outputs": [],
   "source": [
    "class Graph:\n",
    "    def __init__(self, vertices):\n",
    "        self.V = vertices  # Number of vertices in the graph\n",
    "        self.graph = []    # List to store edges\n",
    "        \n",
    "    def add_edge(self, u, v, w):\n",
    "        self.graph.append((u, v, w))  # Add an edge (u, v) with weight w to the graph\n",
    "        \n",
    "    # Find function with path compression\n",
    "    def find(self, parent, i):\n",
    "        # If the current node's parent is itself, it's the root of the tree\n",
    "        if parent[i] == i:\n",
    "            return i\n",
    "        # Recursively find the root while updating the parent for path compression\n",
    "        parent[i] = self.find(parent, parent[i])\n",
    "        return parent[i]\n",
    "    \n",
    "    # Union function with rank optimization\n",
    "    def union(self, parent, rank, x, y):\n",
    "        x_root = self.find(parent, x)  # Find root of set containing x\n",
    "        y_root = self.find(parent, y)  # Find root of set containing y\n",
    "        \n",
    "        # Attach the tree with fewer nodes to the root of the larger tree\n",
    "        if rank[x_root] < rank[y_root]:\n",
    "            parent[x_root] = y_root\n",
    "        elif rank[x_root] > rank[y_root]:\n",
    "            parent[y_root] = x_root\n",
    "        else:\n",
    "            parent[y_root] = x_root\n",
    "            rank[x_root] += 1  # Increment rank of the root if both trees have the same rank\n",
    "            \n",
    "    def kruskal_mst(self):\n",
    "        result = []  # To store the resulting MST\n",
    "        self.graph = sorted(self.graph, key=lambda item: item[2])  # Sort edges by weight\n",
    "        \n",
    "        parent = []  # Parent array for disjoint set\n",
    "        rank = []    # Rank array for rank optimization\n",
    "        \n",
    "        # Initialize parent and rank arrays for each vertex\n",
    "        for node in range(self.V):\n",
    "            parent.append(node)  # Initially, each vertex is its own parent\n",
    "            rank.append(0)       # Initially, each vertex has rank 0\n",
    "        \n",
    "        i = 0  # Index for sorted edges\n",
    "        e = 0  # Index for result[]\n",
    "        \n",
    "        while e < self.V - 1:\n",
    "            u, v, w = self.graph[i]  # Get the next edge (u, v, w)\n",
    "            i += 1\n",
    "            x = self.find(parent, u)  # Find the root of the set containing u\n",
    "            y = self.find(parent, v)  # Find the root of the set containing v\n",
    "            \n",
    "            if x != y:\n",
    "                e += 1\n",
    "                result.append((u, v, w))  # Add the edge to the MST\n",
    "                self.union(parent, rank, x, y)  # Merge the sets containing u and v\n",
    "        \n",
    "        return result\n",
    "\n",
    "\n"
   ]
  },
  {
   "cell_type": "code",
   "execution_count": 11,
   "id": "e082fb14-d6fb-493e-bf63-94ae088bb2f6",
   "metadata": {},
   "outputs": [
    {
     "name": "stdout",
     "output_type": "stream",
     "text": [
      "Edges in the MST:\n",
      "2 - 3 : 4\n",
      "0 - 3 : 5\n",
      "0 - 1 : 10\n"
     ]
    }
   ],
   "source": [
    "# Example graph\n",
    "g = Graph(4)  # Create a graph with 4 vertices\n",
    "g.add_edge(0, 1, 10)\n",
    "g.add_edge(0, 2, 6)\n",
    "g.add_edge(0, 3, 5)\n",
    "g.add_edge(1, 3, 15)\n",
    "g.add_edge(2, 3, 4)\n",
    "\n",
    "mst = g.kruskal_mst()  # Find the MST\n",
    "print(\"Edges in the MST:\")\n",
    "for u, v, w in mst:\n",
    "    print(f\"{u} - {v} : {w}\")  # Print edges and their weights in the MST"
   ]
  },
  {
   "cell_type": "code",
   "execution_count": null,
   "id": "d362b79d-7bd0-41fe-b19e-64a8316f7c30",
   "metadata": {},
   "outputs": [],
   "source": []
  },
  {
   "cell_type": "code",
   "execution_count": null,
   "id": "a318903a-e9a0-44ec-9418-ac6bc9ad9d57",
   "metadata": {},
   "outputs": [],
   "source": [
    "Dijkstra's Algorithm"
   ]
  },
  {
   "cell_type": "code",
   "execution_count": 12,
   "id": "0b1c55d6-20b5-4b0f-a116-82560b5cffd2",
   "metadata": {},
   "outputs": [],
   "source": [
    "import heapq\n",
    "\n",
    "def dijkstra(graph, start):\n",
    "    # Initialize distances dictionary with all nodes set to infinity except the start node\n",
    "    distances = {node: float('inf') for node in graph}\n",
    "    distances[start] = 0\n",
    "    \n",
    "    # Create a priority queue to keep track of nodes to visit\n",
    "    priority_queue = [(0, start)]\n",
    "    \n",
    "    # Main loop\n",
    "    while priority_queue:\n",
    "        # Get the node with the smallest distance from the priority queue\n",
    "        current_distance, current_node = heapq.heappop(priority_queue)\n",
    "        \n",
    "        # If the current distance is greater than the recorded distance, skip this node\n",
    "        if current_distance > distances[current_node]:\n",
    "            continue\n",
    "        \n",
    "        # Explore neighbors and update distances\n",
    "        for neighbor, weight in graph[current_node].items():\n",
    "            # Calculate the total distance to the neighbor through the current node\n",
    "            distance = current_distance + weight\n",
    "            \n",
    "            # If the calculated distance is smaller than the recorded distance, update it\n",
    "            if distance < distances[neighbor]:\n",
    "                distances[neighbor] = distance\n",
    "                # Push the new distance and neighbor onto the priority queue\n",
    "                heapq.heappush(priority_queue, (distance, neighbor))\n",
    "    \n",
    "    return distances\n"
   ]
  },
  {
   "cell_type": "code",
   "execution_count": 13,
   "id": "b434a455-b9db-488e-bad5-cd353b9291a7",
   "metadata": {},
   "outputs": [
    {
     "name": "stdout",
     "output_type": "stream",
     "text": [
      "Shortest distances from node A : {'A': 0, 'B': 1, 'C': 3, 'D': 4}\n"
     ]
    }
   ],
   "source": [
    "# Example graph with weighted edges\n",
    "graph = {\n",
    "    'A': {'B': 1, 'C': 4},\n",
    "    'B': {'A': 1, 'C': 2, 'D': 5},\n",
    "    'C': {'A': 4, 'B': 2, 'D': 1},\n",
    "    'D': {'B': 5, 'C': 1}\n",
    "}\n",
    "\n",
    "start_node = 'A'\n",
    "shortest_distances = dijkstra(graph, start_node)\n",
    "print(\"Shortest distances from node\", start_node, \":\", shortest_distances)\n"
   ]
  },
  {
   "cell_type": "code",
   "execution_count": null,
   "id": "87eb9127-170b-43bf-9d1f-c8869ad4ae16",
   "metadata": {},
   "outputs": [],
   "source": []
  }
 ],
 "metadata": {
  "kernelspec": {
   "display_name": "Python 3 (ipykernel)",
   "language": "python",
   "name": "python3"
  },
  "language_info": {
   "codemirror_mode": {
    "name": "ipython",
    "version": 3
   },
   "file_extension": ".py",
   "mimetype": "text/x-python",
   "name": "python",
   "nbconvert_exporter": "python",
   "pygments_lexer": "ipython3",
   "version": "3.11.4"
  }
 },
 "nbformat": 4,
 "nbformat_minor": 5
}
